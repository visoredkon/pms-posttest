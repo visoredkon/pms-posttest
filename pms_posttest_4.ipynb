{
  "nbformat": 4,
  "nbformat_minor": 0,
  "metadata": {
    "colab": {
      "provenance": [],
      "include_colab_link": true
    },
    "kernelspec": {
      "name": "python3",
      "display_name": "Python 3"
    },
    "language_info": {
      "name": "python"
    }
  },
  "cells": [
    {
      "cell_type": "markdown",
      "metadata": {
        "id": "view-in-github",
        "colab_type": "text"
      },
      "source": [
        "<a href=\"https://colab.research.google.com/github/visoredkon/pms-posttest-4/blob/main/pms_posttest_4.ipynb\" target=\"_parent\"><img src=\"https://colab.research.google.com/assets/colab-badge.svg\" alt=\"Open In Colab\"/></a>"
      ]
    },
    {
      "cell_type": "markdown",
      "source": [
        "Nomor 1"
      ],
      "metadata": {
        "id": "bXxyhIkg8psW"
      }
    },
    {
      "cell_type": "code",
      "source": [
        "import statistics\n",
        "\n",
        "ban_tipe_a = [34400, 45500, 36700, 32000, 48400, 32800, 38100, 30100]\n",
        "ban_tipe_b = [36700, 46800, 37700, 31100, 47800, 36400, 38900, 31500]\n",
        "\n",
        "# hitung rata-rata dari masing-masing set data\n",
        "mean_a = statistics.mean(ban_tipe_a)\n",
        "mean_b = statistics.mean(ban_tipe_b)\n",
        "\n",
        "print(\"Rata-rata jarak tempuh ban tipe A:\", mean_a)\n",
        "print(\"Rata-rata jarak tempuh ban tipe B:\", mean_b)\n",
        "\n",
        "if mean_a > mean_b:\n",
        "    print(\"Ban tipe A memiliki rata-rata jarak tempuh terbaik.\")\n",
        "else:\n",
        "    print(\"Ban tipe B memiliki rata-rata jarak tempuh terbaik.\")\n"
      ],
      "metadata": {
        "colab": {
          "base_uri": "https://localhost:8080/"
        },
        "id": "Ahe5sMn98akA",
        "outputId": "c2d6ce1b-4339-46ac-aea6-3e99ef48f597"
      },
      "execution_count": null,
      "outputs": [
        {
          "output_type": "stream",
          "name": "stdout",
          "text": [
            "Rata-rata jarak tempuh ban tipe A: 37250\n",
            "Rata-rata jarak tempuh ban tipe B: 38362.5\n",
            "Ban tipe B memiliki rata-rata jarak tempuh terbaik.\n"
          ]
        }
      ]
    },
    {
      "cell_type": "markdown",
      "source": [
        "Nomor 2"
      ],
      "metadata": {
        "id": "_HC3gQaP8r6T"
      }
    },
    {
      "cell_type": "code",
      "source": [
        "import statistics\n",
        "\n",
        "ban_tipe_a = [34400, 45500, 36700, 32000, 48400, 32800, 38100, 30100]\n",
        "ban_tipe_b = [36700, 46800, 37700, 31100, 47800, 36400, 38900, 31500]\n",
        "\n",
        "# hitung rata-rata dari masing-masing set data\n",
        "mean_a = statistics.mean(ban_tipe_a)\n",
        "mean_b = statistics.mean(ban_tipe_b)\n",
        "\n",
        "# hitung perbedaan rata-rata performa\n",
        "diff = mean_b - mean_a\n",
        "\n",
        "print(\"Perbedaan rata-rata performa kedua ban:\", diff)\n"
      ],
      "metadata": {
        "colab": {
          "base_uri": "https://localhost:8080/"
        },
        "id": "s_HMu04-8ty8",
        "outputId": "4213ca54-1421-4ff3-88ae-f16b3bed92d7"
      },
      "execution_count": null,
      "outputs": [
        {
          "output_type": "stream",
          "name": "stdout",
          "text": [
            "Perbedaan rata-rata performa kedua ban: 1112.5\n"
          ]
        }
      ]
    },
    {
      "cell_type": "markdown",
      "source": [
        "Nomor 3"
      ],
      "metadata": {
        "id": "ATCDsDDM8-B3"
      }
    },
    {
      "cell_type": "code",
      "source": [
        "import statistics\n",
        "\n",
        "ban_tipe_a = [34400, 45500, 36700, 32000, 48400, 32800, 38100, 30100]\n",
        "ban_tipe_b = [36700, 46800, 37700, 31100, 47800, 36400, 38900, 31500]\n",
        "\n",
        "# hitung variansi jarak tempuh dari masing-masing set data\n",
        "var_a = statistics.variance(ban_tipe_a)\n",
        "var_b = statistics.variance(ban_tipe_b)\n",
        "\n",
        "print(\"Variansi jarak tempuh ban tipe A:\", var_a)\n",
        "print(\"Variansi jarak tempuh ban tipe B:\", var_b)\n",
        "\n",
        "if var_a > var_b:\n",
        "    print(\"Variansi jarak tempuh terbesar ada pada tipe ban A.\")\n",
        "else:\n",
        "    print(\"Variansi jarak tempuh terbesar ada pada tipe ban B.\")\n"
      ],
      "metadata": {
        "colab": {
          "base_uri": "https://localhost:8080/"
        },
        "id": "oUfVyNpt8_WF",
        "outputId": "06e8fbad-3c96-4747-d0d3-e1b0f038aed4"
      },
      "execution_count": null,
      "outputs": [
        {
          "output_type": "stream",
          "name": "stdout",
          "text": [
            "Variansi jarak tempuh ban tipe A: 42860000\n",
            "Variansi jarak tempuh ban tipe B: 38205535.71428572\n",
            "Variansi jarak tempuh terbesar ada pada tipe ban A.\n"
          ]
        }
      ]
    },
    {
      "cell_type": "markdown",
      "source": [
        "Nomor 4"
      ],
      "metadata": {
        "id": "M42FaifU9sir"
      }
    },
    {
      "cell_type": "code",
      "source": [
        "import statistics\n",
        "from scipy.stats import t\n",
        "\n",
        "ban_tipe_a = [34400, 45500, 36700, 32000, 48400, 32800, 38100, 30100]\n",
        "ban_tipe_b = [36700, 46800, 37700, 31100, 47800, 36400, 38900, 31500]\n",
        "\n",
        "# hitung mean dan standard deviation dari masing-masing set data\n",
        "mean_a = statistics.mean(ban_tipe_a)\n",
        "mean_b = statistics.mean(ban_tipe_b)\n",
        "std_a = statistics.stdev(ban_tipe_a)\n",
        "std_b = statistics.stdev(ban_tipe_b)\n",
        "n_a = len(ban_tipe_a)\n",
        "n_b = len(ban_tipe_b)\n",
        "\n",
        "# hitung pooled standard deviation dan t-statistik\n",
        "s_p = ((n_a - 1) * std_a ** 2 + (n_b - 1) * std_b ** 2) / (n_a + n_b - 2)\n",
        "s_p = s_p ** 0.5\n",
        "t_stat = (mean_a - mean_b) / (s_p * (n_a + n_b - 2) ** 0.5)\n",
        "\n",
        "# tentukan nilai t tabel yang bersesuaian dengan data tersebut\n",
        "df = n_a + n_b - 2\n",
        "t_table = t.ppf(0.995, df)\n",
        "\n",
        "# hitung interval kepercayaan 99%\n",
        "ci_low = (mean_a - mean_b) - t_table * s_p * (n_a + n_b - 2) ** -0.5\n",
        "ci_high = (mean_a - mean_b) + t_table * s_p * (n_a + n_b - 2) ** -0.5\n",
        "\n",
        "print(\"Nilai t tabel yang bersesuaian dengan data tersebut adalah:\", t_table)\n",
        "print(\"Interval kepercayaan 99% untuk selisih rata-rata jarak tempuh antara tipe ban A dan B adalah\", ci_low, \"sampai\", ci_high)\n"
      ],
      "metadata": {
        "colab": {
          "base_uri": "https://localhost:8080/"
        },
        "id": "xOJVbkof9tTc",
        "outputId": "e46b001f-4589-4edc-bd87-3945d1f4f7b2"
      },
      "execution_count": null,
      "outputs": [
        {
          "output_type": "stream",
          "name": "stdout",
          "text": [
            "Nilai t tabel yang bersesuaian dengan data tersebut adalah: 2.97684273411266\n",
            "Interval kepercayaan 99% untuk selisih rata-rata jarak tempuh antara tipe ban A dan B adalah -6177.681411783318 sampai 3952.6814117833183\n"
          ]
        }
      ]
    },
    {
      "cell_type": "markdown",
      "source": [
        "Nomor 5"
      ],
      "metadata": {
        "id": "5OueInt8-wRE"
      }
    },
    {
      "cell_type": "code",
      "source": [
        "import statistics as stats\n",
        "from scipy.stats import t\n",
        "\n",
        "ban_tipe_a = [34400, 45500, 36700, 32000, 48400, 32800, 38100, 30100]\n",
        "ban_tipe_b = [36700, 46800, 37700, 31100, 47800, 36400, 38900, 31500]\n",
        "\n",
        "# Hitung mean\n",
        "mean_a = stats.mean(ban_tipe_a)\n",
        "mean_b = stats.mean(ban_tipe_b)\n",
        "\n",
        "# Hitung standard deviation\n",
        "stdev_a = stats.stdev(ban_tipe_a)\n",
        "stdev_b = stats.stdev(ban_tipe_b)\n",
        "\n",
        "# Hitung jumlah observasi\n",
        "n_a = len(ban_tipe_a)\n",
        "n_b = len(ban_tipe_b)\n",
        "\n",
        "# Hitung standard error\n",
        "se = ((stdev_a ** 2) / n_a + (stdev_b ** 2) / n_b) ** 0.5\n",
        "\n",
        "# Hitung nilai t\n",
        "dof = n_a + n_b - 2\n",
        "t_val = t.ppf(0.995, dof)\n",
        "\n",
        "# Hitung interval kepercayaan\n",
        "ci_upper = (mean_a - mean_b) + t_val * se\n",
        "\n",
        "# Cetak nilai batas atas interval kepercayaan\n",
        "print(\"Batas atas interval kepercayaan 99% adalah:\", ci_upper)\n"
      ],
      "metadata": {
        "colab": {
          "base_uri": "https://localhost:8080/"
        },
        "id": "V_-M1TDe-x1r",
        "outputId": "0a8ffb0e-daf3-4b05-c550-b05ad953699a"
      },
      "execution_count": null,
      "outputs": [
        {
          "output_type": "stream",
          "name": "stdout",
          "text": [
            "Batas atas interval kepercayaan 99% adalah: 8363.586722374557\n"
          ]
        }
      ]
    },
    {
      "cell_type": "markdown",
      "source": [
        "Nomor 6"
      ],
      "metadata": {
        "id": "nPfcslik_B14"
      }
    },
    {
      "cell_type": "code",
      "source": [
        "import numpy as np\n",
        "from scipy import stats\n",
        "\n",
        "ban_tipe_a = [34400, 45500, 36700, 32000, 48400, 32800, 38100, 30100]\n",
        "ban_tipe_b = [36700, 46800, 37700, 31100, 47800, 36400, 38900, 31500]\n",
        "alpha = 0.01  # tingkat signifikansi\n",
        "n1, n2 = len(ban_tipe_a), len(ban_tipe_b)  # ukuran sampel\n",
        "df = n1 + n2 - 2  # derajat kebebasan\n",
        "\n",
        "mean_diff = np.mean(ban_tipe_a) - np.mean(ban_tipe_b)  # selisih rata-rata kedua sampel\n",
        "s = np.sqrt(((n1 - 1) * np.std(ban_tipe_a, ddof=1) ** 2 + (n2 - 1) * np.std(ban_tipe_b, ddof=1) ** 2) / df)  # estimasi standar deviasi populasi\n",
        "t = stats.t.ppf(1 - alpha / 2, df)  # t-score untuk interval kepercayaan 99%\n",
        "\n",
        "lower = mean_diff - t * s * np.sqrt(1/n1 + 1/n2)  # batas bawah interval kepercayaan\n",
        "upper = mean_diff + t * s * np.sqrt(1/n1 + 1/n2)  # batas atas interval kepercayaan\n",
        "\n",
        "print(\"Interval kepercayaan untuk selisih rata-rata kedua sampel:\")\n",
        "print(f\"({lower:.2f}, {upper:.2f})\")\n"
      ],
      "metadata": {
        "colab": {
          "base_uri": "https://localhost:8080/"
        },
        "id": "UrFPVhmZ_DSP",
        "outputId": "0606750d-13f7-438b-aacd-ba3ded5a2a10"
      },
      "execution_count": null,
      "outputs": [
        {
          "output_type": "stream",
          "name": "stdout",
          "text": [
            "Interval kepercayaan untuk selisih rata-rata kedua sampel:\n",
            "(-10588.59, 8363.59)\n"
          ]
        }
      ]
    }
  ]
}