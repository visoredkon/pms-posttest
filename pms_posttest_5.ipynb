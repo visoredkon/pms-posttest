{
  "nbformat": 4,
  "nbformat_minor": 0,
  "metadata": {
    "colab": {
      "provenance": [],
      "authorship_tag": "ABX9TyOoAhAfMCfOQQNUpjdWMibi"
    },
    "kernelspec": {
      "name": "python3",
      "display_name": "Python 3"
    },
    "language_info": {
      "name": "python"
    }
  },
  "cells": [
    {
      "cell_type": "markdown",
      "source": [
        "Nomor 6"
      ],
      "metadata": {
        "id": "WyJhFCtrmM9v"
      }
    },
    {
      "cell_type": "code",
      "source": [
        "statistik_hitung = 2.345\n",
        "nilai_tabel_statistik = 2.547\n",
        "\n",
        "if statistik_hitung > nilai_tabel_statistik:\n",
        "    print(\"Ho ditolak\")\n",
        "else:\n",
        "    print(\"Gagal tolak Ho\")\n"
      ],
      "metadata": {
        "colab": {
          "base_uri": "https://localhost:8080/"
        },
        "id": "JYwSnS2EmPoY",
        "outputId": "91490b24-7497-4cc8-fb16-d8fad592728e"
      },
      "execution_count": 13,
      "outputs": [
        {
          "output_type": "stream",
          "name": "stdout",
          "text": [
            "Gagal tolak Ho\n"
          ]
        }
      ]
    },
    {
      "cell_type": "markdown",
      "source": [
        "Nomor 7"
      ],
      "metadata": {
        "id": "FMTXBqefihTm"
      }
    },
    {
      "cell_type": "code",
      "source": [
        "# Jumlah mahasiswa dari Surabaya\n",
        "surabaya = 15\n",
        "# Jumlah mahasiswa dari Makassar\n",
        "makassar = 20\n",
        "# Jumlah total mahasiswa ITK\n",
        "total = 100\n",
        "\n",
        "# Menghitung proporsi mahasiswa ITK yang berasal dari Surabaya dan Makassar\n",
        "proporsi_surabaya_makassar = (surabaya + makassar) / total\n",
        "\n",
        "print(\"Proporsi mahasiswa ITK yang berasal dari Surabaya dan Makassar:\", proporsi_surabaya_makassar)\n"
      ],
      "metadata": {
        "colab": {
          "base_uri": "https://localhost:8080/"
        },
        "id": "emV74CrmilNp",
        "outputId": "496f0036-1e1f-44cc-f18e-e0728707ddc3"
      },
      "execution_count": 3,
      "outputs": [
        {
          "output_type": "stream",
          "name": "stdout",
          "text": [
            "Proporsi mahasiswa ITK yang berasal dari Surabaya dan Makassar: 0.35\n"
          ]
        }
      ]
    },
    {
      "cell_type": "markdown",
      "source": [
        "Nomor 8"
      ],
      "metadata": {
        "id": "US0YvtIKkHTU"
      }
    },
    {
      "cell_type": "code",
      "source": [
        "import math\n",
        "from scipy.stats import norm\n",
        "\n",
        "# Proporsi yang diuji\n",
        "ho = 0.7\n",
        "\n",
        "# Jumlah mahasiswa yang disurvey\n",
        "n = 50\n",
        "\n",
        "# Jumlah mahasiswa yang menyukai Ayam Geprek\n",
        "x = 30\n",
        "\n",
        "# Hitung nilai statistik uji\n",
        "z = (x - n * ho) / math.sqrt(n * ho * (1 - ho))\n",
        "\n",
        "# Hitung nilai p-value\n",
        "p_value = 1 - norm.cdf(z)\n",
        "\n",
        "# Jika nilai p-value kurang dari tingkat signifikansi, maka Ho ditolak.\n",
        "\n",
        "if p_value < 0.05:\n",
        "    decision = \"Tolak H0\"\n",
        "else:\n",
        "    decision = \"Terima H0\"\n",
        "\n",
        "# Cetak hasil\n",
        "print(\"Nilai statistik uji:\", z)\n",
        "print(\"Nilai p-value:\", p_value)\n",
        "print(\"Keputusan:\", decision)\n"
      ],
      "metadata": {
        "colab": {
          "base_uri": "https://localhost:8080/"
        },
        "id": "jmLPBqNhkI-Q",
        "outputId": "7681b96e-205e-4244-f3ec-80a0f5303d1e"
      },
      "execution_count": 23,
      "outputs": [
        {
          "output_type": "stream",
          "name": "stdout",
          "text": [
            "Nilai statistik uji: -1.543033499620919\n",
            "Nilai p-value: 0.9385886759493037\n",
            "Keputusan: Terima H0\n"
          ]
        }
      ]
    },
    {
      "cell_type": "markdown",
      "source": [
        "Nomor 9"
      ],
      "metadata": {
        "id": "HAG9NbKHnwzU"
      }
    },
    {
      "cell_type": "code",
      "source": [
        "import math\n",
        "import scipy.stats as stats\n",
        "\n",
        "# Data\n",
        "n1 = 40  # Jumlah sampel pekerja sosial pria\n",
        "mean1 = 887  # Rata-rata penghasilan mingguan pekerja sosial pria\n",
        "std1 = 113  # Standar deviasi populasi pekerja sosial pria\n",
        "n2 = 1  # Jumlah sampel pekerja perempuan (satu populasi)\n",
        "\n",
        "mean2 = 679  # Rata-rata penghasilan mingguan pekerja perempuan\n",
        "\n",
        "# Hitung nilai statistik uji (t-score)\n",
        "standard_error = std1 / math.sqrt(n1)\n",
        "t_score = (mean1 - mean2) / standard_error\n",
        "\n",
        "# Hitung derajat kebebasan\n",
        "df = n1 + n2 - 2\n",
        "\n",
        "# Hitung p-value\n",
        "p_value = 1 - stats.t.cdf(t_score, df=df)\n",
        "\n",
        "alpha = 0.01\n",
        "\n",
        "if p_value < alpha:\n",
        "    decision = \"Tolak H0\"\n",
        "else:\n",
        "    decision = \"Terima H0\"\n",
        "\n",
        "# Print hasil\n",
        "print(\"Nilai Statistik Uji (t-score):\", t_score)\n",
        "print(\"Nilai p-value:\", p_value)\n",
        "print(\"Keputusan:\", decision)\n"
      ],
      "metadata": {
        "colab": {
          "base_uri": "https://localhost:8080/"
        },
        "id": "QRGSjnawnx-y",
        "outputId": "1f93fd8f-960c-47ae-d037-48395a5ccd83"
      },
      "execution_count": 25,
      "outputs": [
        {
          "output_type": "stream",
          "name": "stdout",
          "text": [
            "Nilai Statistik Uji (t-score): 11.64165935070837\n",
            "Nilai p-value: 1.454392162258955e-14\n",
            "Keputusan: Tolak H0\n"
          ]
        }
      ]
    },
    {
      "cell_type": "markdown",
      "source": [
        "Nomor 10"
      ],
      "metadata": {
        "id": "Y-5L55UuqG1w"
      }
    },
    {
      "cell_type": "code",
      "source": [
        "import math\n",
        "import scipy.stats as stats\n",
        "\n",
        "# Data\n",
        "n = 100  # Jumlah orang dewasa di atas usia 40 dalam sampel\n",
        "p = 0.20  # Proporsi orang dewasa Amerika yang berpartisipasi dalam kegiatan fitness setidaknya dua kali seminggu\n",
        "x = 26  # Jumlah orang dewasa di atas usia 40 dalam sampel yang berpartisipasi dalam kegiatan fitness setidaknya dua kali seminggu\n",
        "\n",
        "# Hitung statistik uji (z-score)\n",
        "z_score = (x - p * n) / math.sqrt(p * (1 - p) * n)\n",
        "\n",
        "# Hitung nilai p-value\n",
        "p_value = 1 - stats.norm.cdf(z_score)\n",
        "\n",
        "alpha = 0.05\n",
        "\n",
        "if p_value < alpha:\n",
        "    decision = \"Tolak H0\"\n",
        "else:\n",
        "    decision = \"Terima H0\"\n",
        "\n",
        "# Tampilkan hasil\n",
        "print(\"Statistik Uji (z-score):\", z_score)\n",
        "print(\"Nilai p-value:\", p_value)\n",
        "print(\"Keputusan:\", decision)\n"
      ],
      "metadata": {
        "colab": {
          "base_uri": "https://localhost:8080/"
        },
        "id": "yNjhHDwkqH0K",
        "outputId": "eab2fa41-e651-4c30-9eb8-5dfd6294ce65"
      },
      "execution_count": 21,
      "outputs": [
        {
          "output_type": "stream",
          "name": "stdout",
          "text": [
            "Statistik Uji (z-score): 1.5\n",
            "Nilai p-value: 0.06680720126885809\n",
            "Keputusan: Gagal menolak H0\n"
          ]
        }
      ]
    }
  ]
}